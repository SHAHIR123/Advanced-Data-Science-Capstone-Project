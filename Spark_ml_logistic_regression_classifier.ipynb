{
    "nbformat_minor": 1, 
    "cells": [
        {
            "source": "# APS SYSTEM FAILURE PREDICTION IN SCANIA TRUCKS", 
            "cell_type": "markdown", 
            "metadata": {}
        }, 
        {
            "source": "The data set consists of data collected from heavy Scania trucks in everyday usage. The system in focus is the Air Pressure system (APS) which generates pressurized air that is utilized in various functions in a truck, such as braking and gear changes. The data sets' positive class consists of component failures for a specific component of the APS system. The negative class consists of trucks with failures for components not related to the APS. The data consists of a subset of all available data, selected by experts. The training set contains 60000 examples in total in which 59000 belong to the negative class and 1000 positive class. The test set contains 16000 examples. There are 171 attributes per record. It was imported from the UCI ML Repository https://archive.ics.uci.edu/ml/datasets/APS+Failure+at+Scania+Trucks", 
            "cell_type": "markdown", 
            "metadata": {}
        }, 
        {
            "execution_count": 1, 
            "cell_type": "code", 
            "metadata": {
                "scrolled": true
            }, 
            "outputs": [
                {
                    "output_type": "stream", 
                    "name": "stdout", 
                    "text": "--2019-02-05 09:28:23--  https://archive.ics.uci.edu/ml/machine-learning-databases/00421/aps_failure_training_set.csv\nResolving archive.ics.uci.edu (archive.ics.uci.edu)... 128.195.10.249\nConnecting to archive.ics.uci.edu (archive.ics.uci.edu)|128.195.10.249|:443... connected.\nHTTP request sent, awaiting response... 200 OK\nLength: 44669194 (43M) [text/csv]\nSaving to: \u2018aps_failure_training_set.csv.6\u2019\n\n100%[======================================>] 44,669,194  32.0MB/s   in 1.3s   \n\n2019-02-05 09:28:25 (32.0 MB/s) - \u2018aps_failure_training_set.csv.6\u2019 saved [44669194/44669194]\n\n--2019-02-05 09:28:25--  https://archive.ics.uci.edu/ml/machine-learning-databases/00421/aps_failure_test_set.csv\nResolving archive.ics.uci.edu (archive.ics.uci.edu)... 128.195.10.249\nConnecting to archive.ics.uci.edu (archive.ics.uci.edu)|128.195.10.249|:443... connected.\nHTTP request sent, awaiting response... 200 OK\nLength: 11943558 (11M) [text/csv]\nSaving to: \u2018aps_failure_test_set.csv.7\u2019\n\n100%[======================================>] 11,943,558  12.9MB/s   in 0.9s   \n\n2019-02-05 09:28:27 (12.9 MB/s) - \u2018aps_failure_test_set.csv.7\u2019 saved [11943558/11943558]\n\n"
                }
            ], 
            "source": "! wget https://archive.ics.uci.edu/ml/machine-learning-databases/00421/aps_failure_training_set.csv\n! wget https://archive.ics.uci.edu/ml/machine-learning-databases/00421/aps_failure_test_set.csv"
        }, 
        {
            "source": "# Machine Learning Model with Spark ML\n## Logistic Regression Classifier", 
            "cell_type": "markdown", 
            "metadata": {}
        }, 
        {
            "execution_count": 3, 
            "cell_type": "code", 
            "metadata": {}, 
            "outputs": [
                {
                    "output_type": "stream", 
                    "name": "stdout", 
                    "text": "Prediction schema\nroot\n |-- features: vector (nullable = true)\n |-- label: double (nullable = true)\n |-- rawPrediction: vector (nullable = true)\n |-- probability: vector (nullable = true)\n |-- prediction: double (nullable = true)\n\nEvaluation score on training set.....\n0.9833333333333333\n"
                }
            ], 
            "source": "# Import required libraries\nimport pandas as pd\nimport numpy as np\nimport matplotlib.pyplot as plt\n% matplotlib inline\nimport seaborn as sns\nfrom pyspark.ml.feature import PCA\nfrom pyspark.ml.feature import StringIndexer\nfrom pyspark.ml.feature import OneHotEncoder\nfrom pyspark.ml.linalg import Vectors\nfrom pyspark.ml.feature import VectorAssembler\nfrom pyspark.ml.feature import Normalizer\nfrom pyspark.ml.classification import LogisticRegression\nfrom pyspark.ml import Pipeline\nimport pyspark.sql.functions as f\nfrom pyspark.sql.functions import col\n\n# Load Data Set to pandas\ntrain = pd.read_csv(\"aps_failure_training_set.csv\", skiprows=20)\ntest = pd.read_csv(\"aps_failure_test_set.csv\", skiprows=20)\n\n# Create Spark data frame from panda data frame\nspark_df = sqlContext.createDataFrame(train)\nspark_test_df = sqlContext.createDataFrame(test)\n\n# Create function class attribute processing\ndef index_processor(df):\n    indexer = StringIndexer(inputCol=\"class\", outputCol=\"label\")\n    indexed = indexer.fit(df).transform(df)\n    return indexed\n\n# Create function for vector assembler processing of features\ndef vector_assembler_processor(indexed):\n    indexed_1 = indexed\n    vector_features = indexed_1.drop('class', 'label').columns\n    vectorAssembler = VectorAssembler(inputCols= vector_features, outputCol=\"features\")\n    expr = [col(c).cast(\"Double\").alias(c)\n            for c in vectorAssembler.getInputCols()]\n    indexed_1 = indexed_1.select(*expr)\n    indexed_1 = indexed_1.fillna(0)\n    features_vectorized = vectorAssembler.transform(indexed_1)\n    return features_vectorized  \n\n\n# Make final data frame to train the model\ndef make_df_train(features_vectorized, indexed):\n    df_train = features_vectorized.select(\"features\")\n    label = indexed.select(\"label\")\n    df_train = df_train.withColumn('row_index', f.monotonically_increasing_id())\n    label=label.withColumn('row_index', f.monotonically_increasing_id())\n    df_train = df_train.join(label, on=[\"row_index\"]).sort(\"row_index\").drop(\"row_index\")\n    return df_train\n\n# Compile all above function to one function for easy processing of data set\ndef processor(df):\n    indexed = index_processor(df)\n    features_vectorized = vector_assembler_processor(indexed)\n    df_processed = make_df_train(features_vectorized, indexed)\n    return df_processed\n\n# Pre process training data frame\ndf_train = processor(spark_df)\n\n# Create model\nlr = LogisticRegression(maxIter=10, regParam=0.3, elasticNetParam=0.8)\nmodel = lr.fit(df_train)\n\n# Traing the model\nprediction = model.transform(df_train)\nprint(\"Prediction schema\")\nprediction.printSchema()\n\n# Evaluate the model performance on traing data set\nfrom pyspark.ml.evaluation import MulticlassClassificationEvaluator\nbinEval = MulticlassClassificationEvaluator().setMetricName(\"accuracy\") .setPredictionCol(\"prediction\").setLabelCol(\"label\")\nprint(\"Evaluation score on training set.....\")    \nprint(binEval.evaluate(prediction))"
        }, 
        {
            "source": "## Prediction on Test Set", 
            "cell_type": "markdown", 
            "metadata": {}
        }, 
        {
            "execution_count": 4, 
            "cell_type": "code", 
            "metadata": {}, 
            "outputs": [
                {
                    "output_type": "stream", 
                    "name": "stdout", 
                    "text": "Evaluation score on test set.....\n0.9765625\n"
                }
            ], 
            "source": "# Pre process test data frame\ndf_test = processor(spark_test_df) \n\n# Make prediction on the test data frame\ntest_prediction = model.transform(df_test)\n# Evaluate model performance on test data frame\nprint(\"Evaluation score on test set.....\")\nprint(binEval.evaluate(test_prediction))"
        }, 
        {
            "source": "## Model Performance Indicators", 
            "cell_type": "markdown", 
            "metadata": {}
        }, 
        {
            "execution_count": 5, 
            "cell_type": "code", 
            "metadata": {}, 
            "outputs": [], 
            "source": "# Import required libraries\n\nfrom sklearn.metrics import classification_report, confusion_matrix, roc_curve, make_scorer\nimport scikitplot as skplt\nfrom tqdm import tqdm\n"
        }, 
        {
            "execution_count": 6, 
            "cell_type": "code", 
            "metadata": {}, 
            "outputs": [], 
            "source": "# Create numpy arrays of True labels and predicted labels\ny_test_norm = np.array(df_test.select(\"label\").collect())\ny_pred_norm = np.array(test_prediction.select(\"label\").collect())"
        }, 
        {
            "execution_count": 7, 
            "cell_type": "code", 
            "metadata": {}, 
            "outputs": [
                {
                    "output_type": "stream", 
                    "name": "stdout", 
                    "text": "classification report...\n             precision    recall  f1-score   support\n\n        0.0       1.00      1.00      1.00     15625\n        1.0       1.00      1.00      1.00       375\n\navg / total       1.00      1.00      1.00     16000\n\nConfusion matrix plot...\n"
                }, 
                {
                    "output_type": "display_data", 
                    "data": {
                        "image/png": "[encoded data removed]", 
                        "text/plain": "<matplotlib.figure.Figure at 0x7fec9806ab38>"
                    }, 
                    "metadata": {}
                }
            ], 
            "source": "# Create classification report and confusion matrix plot \nprint(\"classification report...\")\nprint(classification_report(y_test_norm, y_pred_norm))\ntn, fp, fn, tp = confusion_matrix(y_test_norm, y_pred_norm).ravel()\nprint(\"Confusion matrix plot...\")\nskplt.metrics.plot_confusion_matrix(y_test_norm, y_pred_norm, normalize=False)\nplt.show()\n\n"
        }, 
        {
            "source": "## Predict Total Cost of Model", 
            "cell_type": "markdown", 
            "metadata": {}
        }, 
        {
            "execution_count": 10, 
            "cell_type": "code", 
            "metadata": {}, 
            "outputs": [
                {
                    "output_type": "stream", 
                    "name": "stdout", 
                    "text": "Total Cost for the model: 0\n"
                }
            ], 
            "source": "print(\"Total Cost for the model:\", (10*fp + 500*fn))"
        }, 
        {
            "source": "## Save model ", 
            "cell_type": "markdown", 
            "metadata": {}
        }, 
        {
            "execution_count": 11, 
            "cell_type": "code", 
            "metadata": {}, 
            "outputs": [], 
            "source": "model.save('spark_lr_model_1.h5')"
        }, 
        {
            "execution_count": null, 
            "cell_type": "code", 
            "metadata": {}, 
            "outputs": [], 
            "source": ""
        }
    ], 
    "metadata": {
        "kernelspec": {
            "display_name": "Python 3.5 with Spark 2.1", 
            "name": "python3-spark21", 
            "language": "python"
        }, 
        "language_info": {
            "mimetype": "text/x-python", 
            "nbconvert_exporter": "python", 
            "version": "3.5.4", 
            "name": "python", 
            "file_extension": ".py", 
            "pygments_lexer": "ipython3", 
            "codemirror_mode": {
                "version": 3, 
                "name": "ipython"
            }
        }
    }, 
    "nbformat": 4
}